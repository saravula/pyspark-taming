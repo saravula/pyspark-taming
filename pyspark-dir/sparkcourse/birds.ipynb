{
 "cells": [
  {
   "cell_type": "code",
   "execution_count": null,
   "metadata": {},
   "outputs": [],
   "source": []
  },
  {
   "cell_type": "code",
   "execution_count": 2,
   "metadata": {},
   "outputs": [],
   "source": [
    "from pyspark.sql import SparkSession"
   ]
  },
  {
   "cell_type": "code",
   "execution_count": 3,
   "metadata": {},
   "outputs": [],
   "source": [
    "#conf = SparkConf().setMaster(\"local\").setAppName(\"birds\")\n",
    "spark = SparkSession.builder.master(\"local\").appName(\"birds\").getOrCreate()"
   ]
  },
  {
   "cell_type": "code",
   "execution_count": 4,
   "metadata": {},
   "outputs": [],
   "source": [
    "file_input=spark.read.csv('birds.csv',inferSchema=True,header=True)"
   ]
  },
  {
   "cell_type": "code",
   "execution_count": 5,
   "metadata": {},
   "outputs": [
    {
     "name": "stdout",
     "output_type": "stream",
     "text": [
      "+--------------------+--------------+-----------+------------------------+\n",
      "|             Species|      Category|     Period|Annual percentage change|\n",
      "+--------------------+--------------+-----------+------------------------+\n",
      "|Greenfinch (Chlor...|Farmland birds|(1970-2014)|                   -1.13|\n",
      "|Jackdaw (Corvus m...|Farmland birds|(1970-2014)|                    2.12|\n",
      "|Kestrel (Falco ti...|Farmland birds|(1970-2014)|                   -1.49|\n",
      "|Reed Bunting (Emb...|Farmland birds|(1970-2014)|                   -0.86|\n",
      "|Rook (Corvus frug...|Farmland birds|(1970-2014)|                    0.17|\n",
      "|Woodpigeon (Colum...|Farmland birds|(1970-2014)|                    1.85|\n",
      "|Yellow Wagtail (M...|Farmland birds|(1970-2014)|                   -2.56|\n",
      "|Corn Bunting (Emb...|Farmland birds|(1970-2014)|                   -5.02|\n",
      "|Goldfinch (Cardue...|Farmland birds|(1970-2014)|                    2.14|\n",
      "|Grey Partridge (P...|Farmland birds|(1970-2014)|                   -5.46|\n",
      "|Lapwing (Vanellus...|Farmland birds|(1970-2014)|                   -2.28|\n",
      "|Linnet (Carduelis...|Farmland birds|(1970-2014)|                    -1.9|\n",
      "|Skylark (Alauda a...|Farmland birds|(1970-2014)|                   -2.05|\n",
      "|Starling (Sturnus...|Farmland birds|(1970-2014)|                   -3.64|\n",
      "|Stock Dove (Colum...|Farmland birds|(1970-2014)|                    1.76|\n",
      "|Tree Sparrow (Pas...|Farmland birds|(1970-2014)|                   -5.03|\n",
      "|Turtle Dove (Stre...|Farmland birds|(1970-2014)|                   -8.01|\n",
      "|Whitethroat (Sylv...|Farmland birds|(1970-2014)|                   -0.07|\n",
      "|Blackbird (Turdus...|Woodland birds|(1970-2014)|                   -0.38|\n",
      "|Blue Tit (Cyanist...|Woodland birds|(1970-2014)|                    0.48|\n",
      "+--------------------+--------------+-----------+------------------------+\n",
      "only showing top 20 rows\n",
      "\n"
     ]
    }
   ],
   "source": [
    "file_input.show()"
   ]
  },
  {
   "cell_type": "code",
   "execution_count": 6,
   "metadata": {},
   "outputs": [
    {
     "name": "stdout",
     "output_type": "stream",
     "text": [
      "root\n",
      " |-- Species: string (nullable = true)\n",
      " |-- Category: string (nullable = true)\n",
      " |-- Period: string (nullable = true)\n",
      " |-- Annual percentage change: double (nullable = true)\n",
      "\n"
     ]
    }
   ],
   "source": [
    "file_input.printSchema()"
   ]
  },
  {
   "cell_type": "code",
   "execution_count": 7,
   "metadata": {},
   "outputs": [
    {
     "name": "stdout",
     "output_type": "stream",
     "text": [
      "+--------------------+\n",
      "|             Species|\n",
      "+--------------------+\n",
      "|Greenfinch (Chlor...|\n",
      "|Jackdaw (Corvus m...|\n",
      "|Kestrel (Falco ti...|\n",
      "|Reed Bunting (Emb...|\n",
      "|Rook (Corvus frug...|\n",
      "|Woodpigeon (Colum...|\n",
      "|Yellow Wagtail (M...|\n",
      "|Corn Bunting (Emb...|\n",
      "|Goldfinch (Cardue...|\n",
      "|Grey Partridge (P...|\n",
      "|Lapwing (Vanellus...|\n",
      "|Linnet (Carduelis...|\n",
      "|Skylark (Alauda a...|\n",
      "|Starling (Sturnus...|\n",
      "|Stock Dove (Colum...|\n",
      "|Tree Sparrow (Pas...|\n",
      "|Turtle Dove (Stre...|\n",
      "|Whitethroat (Sylv...|\n",
      "|Blackbird (Turdus...|\n",
      "|Blue Tit (Cyanist...|\n",
      "+--------------------+\n",
      "only showing top 20 rows\n",
      "\n"
     ]
    }
   ],
   "source": [
    "file_input.select('Species').show()"
   ]
  },
  {
   "cell_type": "markdown",
   "metadata": {},
   "source": [
    "import pyspark.sql.functions as f\n",
    "#df2.select(spilt(col('eng_name'),\"(\")).show()\n",
    "#file_input.withColumn('eng_name', f.split('Species',' (')[0]).withColumn('sci_name',f.split('Species','(')[1]).show()\n",
    "split_col=f.split(file_input['Species'],'\\ \\(')\n",
    "split_col1=f.split(file_input['Species'],'\\)')\n",
    "df2=file_input.withColumn('eng_name',split_col.getItem(0)).withColumn('sci_name',split_col.getItem(0))"
   ]
  },
  {
   "cell_type": "code",
   "execution_count": 37,
   "metadata": {},
   "outputs": [],
   "source": [
    "import pyspark.sql.functions as f\n",
    "#df2.select(spilt(col('eng_name'),\"(\")).show()\n",
    "#file_input.withColumn('eng_name', f.split('Species',' (')[0]).withColumn('sci_name',f.split('Species','(')[1]).show()\n",
    "split_col=f.split(file_input['Species'],'\\ \\(')\n",
    "split_col1=f.split(file_input['Species'],')')\n",
    "df2=file_input.withColumn('eng_name',split_col.getItem(0)).withColumn('sci_name',split_col.getItem(1))"
   ]
  },
  {
   "cell_type": "code",
   "execution_count": 38,
   "metadata": {},
   "outputs": [
    {
     "name": "stdout",
     "output_type": "stream",
     "text": [
      "+--------------------+--------------+-----------+------------------------+--------------+--------------------+\n",
      "|             Species|      Category|     Period|Annual percentage change|      eng_name|            sci_name|\n",
      "+--------------------+--------------+-----------+------------------------+--------------+--------------------+\n",
      "|Greenfinch (Chlor...|Farmland birds|(1970-2014)|                   -1.13|    Greenfinch|    Chloris chloris)|\n",
      "|Jackdaw (Corvus m...|Farmland birds|(1970-2014)|                    2.12|       Jackdaw|    Corvus monedula)|\n",
      "|Kestrel (Falco ti...|Farmland birds|(1970-2014)|                   -1.49|       Kestrel|  Falco tinnunculus)|\n",
      "|Reed Bunting (Emb...|Farmland birds|(1970-2014)|                   -0.86|  Reed Bunting|Emberiza schoenic...|\n",
      "|Rook (Corvus frug...|Farmland birds|(1970-2014)|                    0.17|          Rook|  Corvus frugilegus)|\n",
      "|Woodpigeon (Colum...|Farmland birds|(1970-2014)|                    1.85|    Woodpigeon|   Columba palumbus)|\n",
      "|Yellow Wagtail (M...|Farmland birds|(1970-2014)|                   -2.56|Yellow Wagtail|    Motacilla flava)|\n",
      "|Corn Bunting (Emb...|Farmland birds|(1970-2014)|                   -5.02|  Corn Bunting|  Emberiza calandra)|\n",
      "|Goldfinch (Cardue...|Farmland birds|(1970-2014)|                    2.14|     Goldfinch|Carduelis carduelis)|\n",
      "|Grey Partridge (P...|Farmland birds|(1970-2014)|                   -5.46|Grey Partridge|      Perdix perdix)|\n",
      "|Lapwing (Vanellus...|Farmland birds|(1970-2014)|                   -2.28|       Lapwing|  Vanellus vanellus)|\n",
      "|Linnet (Carduelis...|Farmland birds|(1970-2014)|                    -1.9|        Linnet|Carduelis cannabina)|\n",
      "|Skylark (Alauda a...|Farmland birds|(1970-2014)|                   -2.05|       Skylark|    Alauda arvensis)|\n",
      "|Starling (Sturnus...|Farmland birds|(1970-2014)|                   -3.64|      Starling|   Sturnus vulgaris)|\n",
      "|Stock Dove (Colum...|Farmland birds|(1970-2014)|                    1.76|    Stock Dove|      Columba oenas)|\n",
      "|Tree Sparrow (Pas...|Farmland birds|(1970-2014)|                   -5.03|  Tree Sparrow|    Passer montanus)|\n",
      "|Turtle Dove (Stre...|Farmland birds|(1970-2014)|                   -8.01|   Turtle Dove|Streptopelia turtur)|\n",
      "|Whitethroat (Sylv...|Farmland birds|(1970-2014)|                   -0.07|   Whitethroat|    Sylvia communis)|\n",
      "|Blackbird (Turdus...|Woodland birds|(1970-2014)|                   -0.38|     Blackbird|      Turdus merula)|\n",
      "|Blue Tit (Cyanist...|Woodland birds|(1970-2014)|                    0.48|      Blue Tit|Cyanistes caeruleus)|\n",
      "+--------------------+--------------+-----------+------------------------+--------------+--------------------+\n",
      "only showing top 20 rows\n",
      "\n"
     ]
    }
   ],
   "source": [
    "df2.show()"
   ]
  },
  {
   "cell_type": "code",
   "execution_count": 54,
   "metadata": {},
   "outputs": [],
   "source": [
    "df2=df2.withColumn('sci2_name',f.split(df2['sci_name'],'\\\\)').getItem(0))"
   ]
  },
  {
   "cell_type": "code",
   "execution_count": 58,
   "metadata": {},
   "outputs": [],
   "source": [
    "df2=df2.drop('sci_name','Species')"
   ]
  },
  {
   "cell_type": "code",
   "execution_count": 59,
   "metadata": {},
   "outputs": [
    {
     "name": "stdout",
     "output_type": "stream",
     "text": [
      "+--------------+-----------+------------------------+--------------+--------------------+\n",
      "|      Category|     Period|Annual percentage change|      eng_name|           sci2_name|\n",
      "+--------------+-----------+------------------------+--------------+--------------------+\n",
      "|Farmland birds|(1970-2014)|                   -1.13|    Greenfinch|     Chloris chloris|\n",
      "|Farmland birds|(1970-2014)|                    2.12|       Jackdaw|     Corvus monedula|\n",
      "|Farmland birds|(1970-2014)|                   -1.49|       Kestrel|   Falco tinnunculus|\n",
      "|Farmland birds|(1970-2014)|                   -0.86|  Reed Bunting|Emberiza schoeniclus|\n",
      "|Farmland birds|(1970-2014)|                    0.17|          Rook|   Corvus frugilegus|\n",
      "|Farmland birds|(1970-2014)|                    1.85|    Woodpigeon|    Columba palumbus|\n",
      "|Farmland birds|(1970-2014)|                   -2.56|Yellow Wagtail|     Motacilla flava|\n",
      "|Farmland birds|(1970-2014)|                   -5.02|  Corn Bunting|   Emberiza calandra|\n",
      "|Farmland birds|(1970-2014)|                    2.14|     Goldfinch| Carduelis carduelis|\n",
      "|Farmland birds|(1970-2014)|                   -5.46|Grey Partridge|       Perdix perdix|\n",
      "|Farmland birds|(1970-2014)|                   -2.28|       Lapwing|   Vanellus vanellus|\n",
      "|Farmland birds|(1970-2014)|                    -1.9|        Linnet| Carduelis cannabina|\n",
      "|Farmland birds|(1970-2014)|                   -2.05|       Skylark|     Alauda arvensis|\n",
      "|Farmland birds|(1970-2014)|                   -3.64|      Starling|    Sturnus vulgaris|\n",
      "|Farmland birds|(1970-2014)|                    1.76|    Stock Dove|       Columba oenas|\n",
      "|Farmland birds|(1970-2014)|                   -5.03|  Tree Sparrow|     Passer montanus|\n",
      "|Farmland birds|(1970-2014)|                   -8.01|   Turtle Dove| Streptopelia turtur|\n",
      "|Farmland birds|(1970-2014)|                   -0.07|   Whitethroat|     Sylvia communis|\n",
      "|Woodland birds|(1970-2014)|                   -0.38|     Blackbird|       Turdus merula|\n",
      "|Woodland birds|(1970-2014)|                    0.48|      Blue Tit| Cyanistes caeruleus|\n",
      "+--------------+-----------+------------------------+--------------+--------------------+\n",
      "only showing top 20 rows\n",
      "\n"
     ]
    }
   ],
   "source": [
    "df2.show()\n"
   ]
  },
  {
   "cell_type": "code",
   "execution_count": 60,
   "metadata": {},
   "outputs": [],
   "source": [
    "from pyspark.sql.functions import trim"
   ]
  },
  {
   "cell_type": "code",
   "execution_count": 62,
   "metadata": {},
   "outputs": [],
   "source": [
    "df2=df2.withColumn('collected_from_year',f.split(df2['Period'],'-').getItem(0))"
   ]
  },
  {
   "cell_type": "markdown",
   "metadata": {},
   "source": []
  },
  {
   "cell_type": "code",
   "execution_count": 63,
   "metadata": {},
   "outputs": [
    {
     "name": "stdout",
     "output_type": "stream",
     "text": [
      "+--------------+-----------+------------------------+--------------+--------------------+-------------------+\n",
      "|      Category|     Period|Annual percentage change|      eng_name|           sci2_name|collected_from_year|\n",
      "+--------------+-----------+------------------------+--------------+--------------------+-------------------+\n",
      "|Farmland birds|(1970-2014)|                   -1.13|    Greenfinch|     Chloris chloris|              (1970|\n",
      "|Farmland birds|(1970-2014)|                    2.12|       Jackdaw|     Corvus monedula|              (1970|\n",
      "|Farmland birds|(1970-2014)|                   -1.49|       Kestrel|   Falco tinnunculus|              (1970|\n",
      "|Farmland birds|(1970-2014)|                   -0.86|  Reed Bunting|Emberiza schoeniclus|              (1970|\n",
      "|Farmland birds|(1970-2014)|                    0.17|          Rook|   Corvus frugilegus|              (1970|\n",
      "|Farmland birds|(1970-2014)|                    1.85|    Woodpigeon|    Columba palumbus|              (1970|\n",
      "|Farmland birds|(1970-2014)|                   -2.56|Yellow Wagtail|     Motacilla flava|              (1970|\n",
      "|Farmland birds|(1970-2014)|                   -5.02|  Corn Bunting|   Emberiza calandra|              (1970|\n",
      "|Farmland birds|(1970-2014)|                    2.14|     Goldfinch| Carduelis carduelis|              (1970|\n",
      "|Farmland birds|(1970-2014)|                   -5.46|Grey Partridge|       Perdix perdix|              (1970|\n",
      "|Farmland birds|(1970-2014)|                   -2.28|       Lapwing|   Vanellus vanellus|              (1970|\n",
      "|Farmland birds|(1970-2014)|                    -1.9|        Linnet| Carduelis cannabina|              (1970|\n",
      "|Farmland birds|(1970-2014)|                   -2.05|       Skylark|     Alauda arvensis|              (1970|\n",
      "|Farmland birds|(1970-2014)|                   -3.64|      Starling|    Sturnus vulgaris|              (1970|\n",
      "|Farmland birds|(1970-2014)|                    1.76|    Stock Dove|       Columba oenas|              (1970|\n",
      "|Farmland birds|(1970-2014)|                   -5.03|  Tree Sparrow|     Passer montanus|              (1970|\n",
      "|Farmland birds|(1970-2014)|                   -8.01|   Turtle Dove| Streptopelia turtur|              (1970|\n",
      "|Farmland birds|(1970-2014)|                   -0.07|   Whitethroat|     Sylvia communis|              (1970|\n",
      "|Woodland birds|(1970-2014)|                   -0.38|     Blackbird|       Turdus merula|              (1970|\n",
      "|Woodland birds|(1970-2014)|                    0.48|      Blue Tit| Cyanistes caeruleus|              (1970|\n",
      "+--------------+-----------+------------------------+--------------+--------------------+-------------------+\n",
      "only showing top 20 rows\n",
      "\n"
     ]
    }
   ],
   "source": [
    "df2.show()"
   ]
  },
  {
   "cell_type": "code",
   "execution_count": 69,
   "metadata": {},
   "outputs": [],
   "source": [
    "df2=df2.withColumn('collected_from_years',f.split(df2['collected_from_year'],'\\(').getItem(1))"
   ]
  },
  {
   "cell_type": "code",
   "execution_count": 70,
   "metadata": {},
   "outputs": [
    {
     "name": "stdout",
     "output_type": "stream",
     "text": [
      "+--------------+-----------+------------------------+--------------+--------------------+-------------------+--------------------+\n",
      "|      Category|     Period|Annual percentage change|      eng_name|           sci2_name|collected_from_year|collected_from_years|\n",
      "+--------------+-----------+------------------------+--------------+--------------------+-------------------+--------------------+\n",
      "|Farmland birds|(1970-2014)|                   -1.13|    Greenfinch|     Chloris chloris|              (1970|                1970|\n",
      "|Farmland birds|(1970-2014)|                    2.12|       Jackdaw|     Corvus monedula|              (1970|                1970|\n",
      "|Farmland birds|(1970-2014)|                   -1.49|       Kestrel|   Falco tinnunculus|              (1970|                1970|\n",
      "|Farmland birds|(1970-2014)|                   -0.86|  Reed Bunting|Emberiza schoeniclus|              (1970|                1970|\n",
      "|Farmland birds|(1970-2014)|                    0.17|          Rook|   Corvus frugilegus|              (1970|                1970|\n",
      "|Farmland birds|(1970-2014)|                    1.85|    Woodpigeon|    Columba palumbus|              (1970|                1970|\n",
      "|Farmland birds|(1970-2014)|                   -2.56|Yellow Wagtail|     Motacilla flava|              (1970|                1970|\n",
      "|Farmland birds|(1970-2014)|                   -5.02|  Corn Bunting|   Emberiza calandra|              (1970|                1970|\n",
      "|Farmland birds|(1970-2014)|                    2.14|     Goldfinch| Carduelis carduelis|              (1970|                1970|\n",
      "|Farmland birds|(1970-2014)|                   -5.46|Grey Partridge|       Perdix perdix|              (1970|                1970|\n",
      "|Farmland birds|(1970-2014)|                   -2.28|       Lapwing|   Vanellus vanellus|              (1970|                1970|\n",
      "|Farmland birds|(1970-2014)|                    -1.9|        Linnet| Carduelis cannabina|              (1970|                1970|\n",
      "|Farmland birds|(1970-2014)|                   -2.05|       Skylark|     Alauda arvensis|              (1970|                1970|\n",
      "|Farmland birds|(1970-2014)|                   -3.64|      Starling|    Sturnus vulgaris|              (1970|                1970|\n",
      "|Farmland birds|(1970-2014)|                    1.76|    Stock Dove|       Columba oenas|              (1970|                1970|\n",
      "|Farmland birds|(1970-2014)|                   -5.03|  Tree Sparrow|     Passer montanus|              (1970|                1970|\n",
      "|Farmland birds|(1970-2014)|                   -8.01|   Turtle Dove| Streptopelia turtur|              (1970|                1970|\n",
      "|Farmland birds|(1970-2014)|                   -0.07|   Whitethroat|     Sylvia communis|              (1970|                1970|\n",
      "|Woodland birds|(1970-2014)|                   -0.38|     Blackbird|       Turdus merula|              (1970|                1970|\n",
      "|Woodland birds|(1970-2014)|                    0.48|      Blue Tit| Cyanistes caeruleus|              (1970|                1970|\n",
      "+--------------+-----------+------------------------+--------------+--------------------+-------------------+--------------------+\n",
      "only showing top 20 rows\n",
      "\n"
     ]
    }
   ],
   "source": [
    "df2.show()"
   ]
  },
  {
   "cell_type": "code",
   "execution_count": 71,
   "metadata": {},
   "outputs": [],
   "source": [
    "df2=df2.drop('collected_from_year','Period')"
   ]
  },
  {
   "cell_type": "code",
   "execution_count": 72,
   "metadata": {},
   "outputs": [
    {
     "name": "stdout",
     "output_type": "stream",
     "text": [
      "+--------------+------------------------+--------------+--------------------+--------------------+\n",
      "|      Category|Annual percentage change|      eng_name|           sci2_name|collected_from_years|\n",
      "+--------------+------------------------+--------------+--------------------+--------------------+\n",
      "|Farmland birds|                   -1.13|    Greenfinch|     Chloris chloris|                1970|\n",
      "|Farmland birds|                    2.12|       Jackdaw|     Corvus monedula|                1970|\n",
      "|Farmland birds|                   -1.49|       Kestrel|   Falco tinnunculus|                1970|\n",
      "|Farmland birds|                   -0.86|  Reed Bunting|Emberiza schoeniclus|                1970|\n",
      "|Farmland birds|                    0.17|          Rook|   Corvus frugilegus|                1970|\n",
      "|Farmland birds|                    1.85|    Woodpigeon|    Columba palumbus|                1970|\n",
      "|Farmland birds|                   -2.56|Yellow Wagtail|     Motacilla flava|                1970|\n",
      "|Farmland birds|                   -5.02|  Corn Bunting|   Emberiza calandra|                1970|\n",
      "|Farmland birds|                    2.14|     Goldfinch| Carduelis carduelis|                1970|\n",
      "|Farmland birds|                   -5.46|Grey Partridge|       Perdix perdix|                1970|\n",
      "|Farmland birds|                   -2.28|       Lapwing|   Vanellus vanellus|                1970|\n",
      "|Farmland birds|                    -1.9|        Linnet| Carduelis cannabina|                1970|\n",
      "|Farmland birds|                   -2.05|       Skylark|     Alauda arvensis|                1970|\n",
      "|Farmland birds|                   -3.64|      Starling|    Sturnus vulgaris|                1970|\n",
      "|Farmland birds|                    1.76|    Stock Dove|       Columba oenas|                1970|\n",
      "|Farmland birds|                   -5.03|  Tree Sparrow|     Passer montanus|                1970|\n",
      "|Farmland birds|                   -8.01|   Turtle Dove| Streptopelia turtur|                1970|\n",
      "|Farmland birds|                   -0.07|   Whitethroat|     Sylvia communis|                1970|\n",
      "|Woodland birds|                   -0.38|     Blackbird|       Turdus merula|                1970|\n",
      "|Woodland birds|                    0.48|      Blue Tit| Cyanistes caeruleus|                1970|\n",
      "+--------------+------------------------+--------------+--------------------+--------------------+\n",
      "only showing top 20 rows\n",
      "\n"
     ]
    }
   ],
   "source": [
    "df2.show()"
   ]
  },
  {
   "cell_type": "code",
   "execution_count": 76,
   "metadata": {},
   "outputs": [
    {
     "name": "stdout",
     "output_type": "stream",
     "text": [
      "root\n",
      " |-- Category: string (nullable = true)\n",
      " |-- Annual percentage change: double (nullable = true)\n",
      " |-- eng_name: string (nullable = true)\n",
      " |-- sci2_name: string (nullable = true)\n",
      " |-- collected_from_years: string (nullable = true)\n",
      "\n"
     ]
    }
   ],
   "source": [
    "df2.printSchema()"
   ]
  },
  {
   "cell_type": "code",
   "execution_count": 79,
   "metadata": {},
   "outputs": [],
   "source": [
    "df2=df2.withColumn('annual_percentage',df2['Annual percentage change'].cast('float'))"
   ]
  },
  {
   "cell_type": "code",
   "execution_count": 85,
   "metadata": {},
   "outputs": [
    {
     "name": "stdout",
     "output_type": "stream",
     "text": [
      "root\n",
      " |-- Category: string (nullable = true)\n",
      " |-- Annual percentage change: double (nullable = true)\n",
      " |-- eng_name: string (nullable = true)\n",
      " |-- sci2_name: string (nullable = true)\n",
      " |-- collected_from_years: string (nullable = true)\n",
      " |-- annual_percentage: float (nullable = true)\n",
      "\n"
     ]
    }
   ],
   "source": [
    "df2.printSchema()"
   ]
  },
  {
   "cell_type": "code",
   "execution_count": 89,
   "metadata": {},
   "outputs": [],
   "source": [
    "df2=df2.drop('Annual percentage change')"
   ]
  },
  {
   "cell_type": "code",
   "execution_count": 84,
   "metadata": {},
   "outputs": [
    {
     "name": "stdout",
     "output_type": "stream",
     "text": [
      "/bin/bash: spark: command not found\r\n"
     ]
    }
   ],
   "source": [
    "!spark --version"
   ]
  },
  {
   "cell_type": "code",
   "execution_count": 102,
   "metadata": {},
   "outputs": [
    {
     "name": "stdout",
     "output_type": "stream",
     "text": [
      "root\n",
      " |-- Category: string (nullable = true)\n",
      " |-- eng_name: string (nullable = true)\n",
      " |-- sci2_name: string (nullable = true)\n",
      " |-- collected_from_years: string (nullable = true)\n",
      " |-- annual_percentage: float (nullable = true)\n",
      "\n"
     ]
    }
   ],
   "source": [
    "df2.printSchema()"
   ]
  },
  {
   "cell_type": "code",
   "execution_count": 91,
   "metadata": {},
   "outputs": [],
   "source": [
    "from pyspark.sql.functions import col,struct,when"
   ]
  },
  {
   "cell_type": "code",
   "execution_count": 108,
   "metadata": {},
   "outputs": [
    {
     "ename": "TypeError",
     "evalue": "withColumn() missing 1 required positional argument: 'col'",
     "output_type": "error",
     "traceback": [
      "\u001b[0;31m---------------------------------------------------------------------------\u001b[0m",
      "\u001b[0;31mTypeError\u001b[0m                                 Traceback (most recent call last)",
      "\u001b[0;32m<ipython-input-108-6eee37f0bcf7>\u001b[0m in \u001b[0;36m<module>\u001b[0;34m\u001b[0m\n\u001b[0;32m----> 1\u001b[0;31m \u001b[0mdf3\u001b[0m\u001b[0;34m=\u001b[0m\u001b[0mdf2\u001b[0m\u001b[0;34m.\u001b[0m\u001b[0mwithColumn\u001b[0m\u001b[0;34m(\u001b[0m\u001b[0;34m(\u001b[0m\u001b[0mcol\u001b[0m\u001b[0;34m(\u001b[0m\u001b[0;34m'sci2_name'\u001b[0m\u001b[0;34m)\u001b[0m\u001b[0;34m.\u001b[0m\u001b[0malias\u001b[0m\u001b[0;34m(\u001b[0m\u001b[0;34m'Species'\u001b[0m\u001b[0;34m)\u001b[0m\u001b[0;34m,\u001b[0m\u001b[0mcol\u001b[0m\u001b[0;34m(\u001b[0m\u001b[0;34m'Category'\u001b[0m\u001b[0;34m)\u001b[0m\u001b[0;34m.\u001b[0m\u001b[0malias\u001b[0m\u001b[0;34m(\u001b[0m\u001b[0;34m'category'\u001b[0m\u001b[0;34m)\u001b[0m\u001b[0;34m,\u001b[0m\u001b[0mcol\u001b[0m\u001b[0;34m(\u001b[0m\u001b[0;34m'collected_from_years'\u001b[0m\u001b[0;34m)\u001b[0m\u001b[0;34m.\u001b[0m\u001b[0malias\u001b[0m\u001b[0;34m(\u001b[0m\u001b[0;34m'starting_year'\u001b[0m\u001b[0;34m)\u001b[0m\u001b[0;34m,\u001b[0m\u001b[0mwhen\u001b[0m\u001b[0;34m(\u001b[0m\u001b[0mcol\u001b[0m\u001b[0;34m(\u001b[0m\u001b[0;34m'annual_percentage'\u001b[0m\u001b[0;34m)\u001b[0m\u001b[0;34m.\u001b[0m\u001b[0mcast\u001b[0m\u001b[0;34m(\u001b[0m\u001b[0;34m'float'\u001b[0m\u001b[0;34m)\u001b[0m\u001b[0;34m<\u001b[0m \u001b[0;34m-\u001b[0m\u001b[0;36m3.00\u001b[0m\u001b[0;34m,\u001b[0m\u001b[0;34m'strong decline'\u001b[0m\u001b[0;34m)\u001b[0m\u001b[0;34m.\u001b[0m\u001b[0mwhen\u001b[0m\u001b[0;34m(\u001b[0m\u001b[0mcol\u001b[0m\u001b[0;34m(\u001b[0m\u001b[0;34m'annual_percentage'\u001b[0m\u001b[0;34m)\u001b[0m\u001b[0;34m.\u001b[0m\u001b[0mcast\u001b[0m\u001b[0;34m(\u001b[0m\u001b[0;34m'float'\u001b[0m\u001b[0;34m)\u001b[0m\u001b[0;34m>\u001b[0m \u001b[0;34m-\u001b[0m\u001b[0;36m0.50\u001b[0m\u001b[0;34m,\u001b[0m\u001b[0;34m'weak decline'\u001b[0m\u001b[0;34m)\u001b[0m\u001b[0;34m.\u001b[0m\u001b[0malias\u001b[0m\u001b[0;34m(\u001b[0m\u001b[0;34m'annual_grade'\u001b[0m\u001b[0;34m)\u001b[0m\u001b[0;34m)\u001b[0m\u001b[0;34m)\u001b[0m\u001b[0;34m\u001b[0m\u001b[0;34m\u001b[0m\u001b[0m\n\u001b[0m",
      "\u001b[0;31mTypeError\u001b[0m: withColumn() missing 1 required positional argument: 'col'"
     ]
    }
   ],
   "source": [
    "df3=df2.withColumn(('Species',col('sci2_name'),'category',col('Category'),col('collected_from_years').alias('starting_year'),when(col('annual_percentage').cast('float')< -3.00,'strong decline').when(col('annual_percentage').cast('float')> -0.50,'weak decline').alias('annual_grade')))"
   ]
  },
  {
   "cell_type": "markdown",
   "metadata": {},
   "source": [
    "df3.show()"
   ]
  },
  {
   "cell_type": "code",
   "execution_count": 125,
   "metadata": {},
   "outputs": [
    {
     "ename": "Py4JError",
     "evalue": "An error occurred while calling o593.and. Trace:\npy4j.Py4JException: Method and([class java.lang.Double]) does not exist\n\tat py4j.reflection.ReflectionEngine.getMethod(ReflectionEngine.java:318)\n\tat py4j.reflection.ReflectionEngine.getMethod(ReflectionEngine.java:326)\n\tat py4j.Gateway.invoke(Gateway.java:274)\n\tat py4j.commands.AbstractCommand.invokeMethod(AbstractCommand.java:132)\n\tat py4j.commands.CallCommand.execute(CallCommand.java:79)\n\tat py4j.GatewayConnection.run(GatewayConnection.java:238)\n\tat java.base/java.lang.Thread.run(Thread.java:834)\n\n",
     "output_type": "error",
     "traceback": [
      "\u001b[0;31m---------------------------------------------------------------------------\u001b[0m",
      "\u001b[0;31mPy4JError\u001b[0m                                 Traceback (most recent call last)",
      "\u001b[0;32m<ipython-input-125-c39096d8b25c>\u001b[0m in \u001b[0;36m<module>\u001b[0;34m\u001b[0m\n\u001b[1;32m      3\u001b[0m \u001b[0;34m.\u001b[0m\u001b[0mwithColumn\u001b[0m\u001b[0;34m(\u001b[0m\u001b[0;34m'starting_year'\u001b[0m\u001b[0;34m,\u001b[0m\u001b[0mcol\u001b[0m\u001b[0;34m(\u001b[0m\u001b[0;34m'collected_from_years'\u001b[0m\u001b[0;34m)\u001b[0m\u001b[0;34m)\u001b[0m\u001b[0;31m\\\u001b[0m\u001b[0;34m\u001b[0m\u001b[0;34m\u001b[0m\u001b[0m\n\u001b[1;32m      4\u001b[0m .withColumn((when(col('annual_percentage').cast('float')< -3.00,'strong Decline')\\\n\u001b[0;32m----> 5\u001b[0;31m             \u001b[0;34m.\u001b[0m\u001b[0mwhen\u001b[0m\u001b[0;34m(\u001b[0m\u001b[0mcol\u001b[0m\u001b[0;34m(\u001b[0m\u001b[0;34m'annual_percentage'\u001b[0m\u001b[0;34m)\u001b[0m\u001b[0;34m.\u001b[0m\u001b[0mcast\u001b[0m\u001b[0;34m(\u001b[0m\u001b[0;34m'float'\u001b[0m\u001b[0;34m)\u001b[0m\u001b[0;34m<\u001b[0m \u001b[0;34m-\u001b[0m\u001b[0;36m2.99\u001b[0m  \u001b[0;34m&\u001b[0m \u001b[0mcol\u001b[0m\u001b[0;34m(\u001b[0m\u001b[0;34m'annual_percentage'\u001b[0m\u001b[0;34m)\u001b[0m\u001b[0;34m.\u001b[0m\u001b[0mcast\u001b[0m\u001b[0;34m(\u001b[0m\u001b[0;34m'float'\u001b[0m\u001b[0;34m)\u001b[0m \u001b[0;34m>\u001b[0m \u001b[0;34m-\u001b[0m\u001b[0;36m0.50\u001b[0m\u001b[0;34m,\u001b[0m\u001b[0;34m'weak Decline'\u001b[0m\u001b[0;34m)\u001b[0m\u001b[0;31m\\\u001b[0m\u001b[0;34m\u001b[0m\u001b[0;34m\u001b[0m\u001b[0m\n\u001b[0m\u001b[1;32m      6\u001b[0m             \u001b[0;34m.\u001b[0m\u001b[0mwhen\u001b[0m\u001b[0;34m(\u001b[0m\u001b[0mcol\u001b[0m\u001b[0;34m(\u001b[0m\u001b[0;34m'annual_percentage'\u001b[0m\u001b[0;34m)\u001b[0m\u001b[0;34m.\u001b[0m\u001b[0mcast\u001b[0m\u001b[0;34m(\u001b[0m\u001b[0;34m'float'\u001b[0m\u001b[0;34m)\u001b[0m \u001b[0;34m<\u001b[0m \u001b[0;34m-\u001b[0m\u001b[0;36m0.49\u001b[0m \u001b[0;34m&\u001b[0m \u001b[0mcol\u001b[0m\u001b[0;34m(\u001b[0m\u001b[0;34m'annual_percentage'\u001b[0m\u001b[0;34m)\u001b[0m\u001b[0;34m.\u001b[0m\u001b[0mcast\u001b[0m\u001b[0;34m(\u001b[0m\u001b[0;34m'float'\u001b[0m\u001b[0;34m)\u001b[0m \u001b[0;34m>\u001b[0m \u001b[0;36m0.50\u001b[0m\u001b[0;34m,\u001b[0m\u001b[0;34m'no chnage'\u001b[0m\u001b[0;34m)\u001b[0m\u001b[0;31m\\\u001b[0m\u001b[0;34m\u001b[0m\u001b[0;34m\u001b[0m\u001b[0m\n\u001b[1;32m      7\u001b[0m             \u001b[0;34m.\u001b[0m\u001b[0mwhen\u001b[0m\u001b[0;34m(\u001b[0m\u001b[0mcol\u001b[0m\u001b[0;34m(\u001b[0m\u001b[0;34m'annual_percentage'\u001b[0m\u001b[0;34m)\u001b[0m\u001b[0;34m.\u001b[0m\u001b[0mcast\u001b[0m\u001b[0;34m(\u001b[0m\u001b[0;34m'float'\u001b[0m\u001b[0;34m)\u001b[0m \u001b[0;34m<\u001b[0m \u001b[0;36m0.49\u001b[0m \u001b[0;34m&\u001b[0m \u001b[0mcol\u001b[0m\u001b[0;34m(\u001b[0m\u001b[0;34m'annual_percentage'\u001b[0m\u001b[0;34m)\u001b[0m\u001b[0;34m.\u001b[0m\u001b[0mcast\u001b[0m\u001b[0;34m(\u001b[0m\u001b[0;34m'float'\u001b[0m\u001b[0;34m)\u001b[0m \u001b[0;34m>\u001b[0m \u001b[0;36m2.99\u001b[0m\u001b[0;34m,\u001b[0m\u001b[0;34m'weak increase'\u001b[0m\u001b[0;34m)\u001b[0m\u001b[0;31m\\\u001b[0m\u001b[0;34m\u001b[0m\u001b[0;34m\u001b[0m\u001b[0m\n",
      "\u001b[0;32m/usr/local/spark/python/pyspark/sql/column.py\u001b[0m in \u001b[0;36m_\u001b[0;34m(self, other)\u001b[0m\n\u001b[1;32m    116\u001b[0m     \u001b[0;32mdef\u001b[0m \u001b[0m_\u001b[0m\u001b[0;34m(\u001b[0m\u001b[0mself\u001b[0m\u001b[0;34m,\u001b[0m \u001b[0mother\u001b[0m\u001b[0;34m)\u001b[0m\u001b[0;34m:\u001b[0m\u001b[0;34m\u001b[0m\u001b[0;34m\u001b[0m\u001b[0m\n\u001b[1;32m    117\u001b[0m         \u001b[0mjc\u001b[0m \u001b[0;34m=\u001b[0m \u001b[0mother\u001b[0m\u001b[0;34m.\u001b[0m\u001b[0m_jc\u001b[0m \u001b[0;32mif\u001b[0m \u001b[0misinstance\u001b[0m\u001b[0;34m(\u001b[0m\u001b[0mother\u001b[0m\u001b[0;34m,\u001b[0m \u001b[0mColumn\u001b[0m\u001b[0;34m)\u001b[0m \u001b[0;32melse\u001b[0m \u001b[0mother\u001b[0m\u001b[0;34m\u001b[0m\u001b[0;34m\u001b[0m\u001b[0m\n\u001b[0;32m--> 118\u001b[0;31m         \u001b[0mnjc\u001b[0m \u001b[0;34m=\u001b[0m \u001b[0mgetattr\u001b[0m\u001b[0;34m(\u001b[0m\u001b[0mself\u001b[0m\u001b[0;34m.\u001b[0m\u001b[0m_jc\u001b[0m\u001b[0;34m,\u001b[0m \u001b[0mname\u001b[0m\u001b[0;34m)\u001b[0m\u001b[0;34m(\u001b[0m\u001b[0mjc\u001b[0m\u001b[0;34m)\u001b[0m\u001b[0;34m\u001b[0m\u001b[0;34m\u001b[0m\u001b[0m\n\u001b[0m\u001b[1;32m    119\u001b[0m         \u001b[0;32mreturn\u001b[0m \u001b[0mColumn\u001b[0m\u001b[0;34m(\u001b[0m\u001b[0mnjc\u001b[0m\u001b[0;34m)\u001b[0m\u001b[0;34m\u001b[0m\u001b[0;34m\u001b[0m\u001b[0m\n\u001b[1;32m    120\u001b[0m     \u001b[0m_\u001b[0m\u001b[0;34m.\u001b[0m\u001b[0m__doc__\u001b[0m \u001b[0;34m=\u001b[0m \u001b[0mdoc\u001b[0m\u001b[0;34m\u001b[0m\u001b[0;34m\u001b[0m\u001b[0m\n",
      "\u001b[0;32m/usr/local/spark/python/lib/py4j-0.10.9-src.zip/py4j/java_gateway.py\u001b[0m in \u001b[0;36m__call__\u001b[0;34m(self, *args)\u001b[0m\n\u001b[1;32m   1302\u001b[0m \u001b[0;34m\u001b[0m\u001b[0m\n\u001b[1;32m   1303\u001b[0m         \u001b[0manswer\u001b[0m \u001b[0;34m=\u001b[0m \u001b[0mself\u001b[0m\u001b[0;34m.\u001b[0m\u001b[0mgateway_client\u001b[0m\u001b[0;34m.\u001b[0m\u001b[0msend_command\u001b[0m\u001b[0;34m(\u001b[0m\u001b[0mcommand\u001b[0m\u001b[0;34m)\u001b[0m\u001b[0;34m\u001b[0m\u001b[0;34m\u001b[0m\u001b[0m\n\u001b[0;32m-> 1304\u001b[0;31m         return_value = get_return_value(\n\u001b[0m\u001b[1;32m   1305\u001b[0m             answer, self.gateway_client, self.target_id, self.name)\n\u001b[1;32m   1306\u001b[0m \u001b[0;34m\u001b[0m\u001b[0m\n",
      "\u001b[0;32m/usr/local/spark/python/pyspark/sql/utils.py\u001b[0m in \u001b[0;36mdeco\u001b[0;34m(*a, **kw)\u001b[0m\n\u001b[1;32m    129\u001b[0m     \u001b[0;32mdef\u001b[0m \u001b[0mdeco\u001b[0m\u001b[0;34m(\u001b[0m\u001b[0;34m*\u001b[0m\u001b[0ma\u001b[0m\u001b[0;34m,\u001b[0m \u001b[0;34m**\u001b[0m\u001b[0mkw\u001b[0m\u001b[0;34m)\u001b[0m\u001b[0;34m:\u001b[0m\u001b[0;34m\u001b[0m\u001b[0;34m\u001b[0m\u001b[0m\n\u001b[1;32m    130\u001b[0m         \u001b[0;32mtry\u001b[0m\u001b[0;34m:\u001b[0m\u001b[0;34m\u001b[0m\u001b[0;34m\u001b[0m\u001b[0m\n\u001b[0;32m--> 131\u001b[0;31m             \u001b[0;32mreturn\u001b[0m \u001b[0mf\u001b[0m\u001b[0;34m(\u001b[0m\u001b[0;34m*\u001b[0m\u001b[0ma\u001b[0m\u001b[0;34m,\u001b[0m \u001b[0;34m**\u001b[0m\u001b[0mkw\u001b[0m\u001b[0;34m)\u001b[0m\u001b[0;34m\u001b[0m\u001b[0;34m\u001b[0m\u001b[0m\n\u001b[0m\u001b[1;32m    132\u001b[0m         \u001b[0;32mexcept\u001b[0m \u001b[0mpy4j\u001b[0m\u001b[0;34m.\u001b[0m\u001b[0mprotocol\u001b[0m\u001b[0;34m.\u001b[0m\u001b[0mPy4JJavaError\u001b[0m \u001b[0;32mas\u001b[0m \u001b[0me\u001b[0m\u001b[0;34m:\u001b[0m\u001b[0;34m\u001b[0m\u001b[0;34m\u001b[0m\u001b[0m\n\u001b[1;32m    133\u001b[0m             \u001b[0mconverted\u001b[0m \u001b[0;34m=\u001b[0m \u001b[0mconvert_exception\u001b[0m\u001b[0;34m(\u001b[0m\u001b[0me\u001b[0m\u001b[0;34m.\u001b[0m\u001b[0mjava_exception\u001b[0m\u001b[0;34m)\u001b[0m\u001b[0;34m\u001b[0m\u001b[0;34m\u001b[0m\u001b[0m\n",
      "\u001b[0;32m/usr/local/spark/python/lib/py4j-0.10.9-src.zip/py4j/protocol.py\u001b[0m in \u001b[0;36mget_return_value\u001b[0;34m(answer, gateway_client, target_id, name)\u001b[0m\n\u001b[1;32m    328\u001b[0m                     format(target_id, \".\", name), value)\n\u001b[1;32m    329\u001b[0m             \u001b[0;32melse\u001b[0m\u001b[0;34m:\u001b[0m\u001b[0;34m\u001b[0m\u001b[0;34m\u001b[0m\u001b[0m\n\u001b[0;32m--> 330\u001b[0;31m                 raise Py4JError(\n\u001b[0m\u001b[1;32m    331\u001b[0m                     \u001b[0;34m\"An error occurred while calling {0}{1}{2}. Trace:\\n{3}\\n\"\u001b[0m\u001b[0;34m.\u001b[0m\u001b[0;34m\u001b[0m\u001b[0;34m\u001b[0m\u001b[0m\n\u001b[1;32m    332\u001b[0m                     format(target_id, \".\", name, value))\n",
      "\u001b[0;31mPy4JError\u001b[0m: An error occurred while calling o593.and. Trace:\npy4j.Py4JException: Method and([class java.lang.Double]) does not exist\n\tat py4j.reflection.ReflectionEngine.getMethod(ReflectionEngine.java:318)\n\tat py4j.reflection.ReflectionEngine.getMethod(ReflectionEngine.java:326)\n\tat py4j.Gateway.invoke(Gateway.java:274)\n\tat py4j.commands.AbstractCommand.invokeMethod(AbstractCommand.java:132)\n\tat py4j.commands.CallCommand.execute(CallCommand.java:79)\n\tat py4j.GatewayConnection.run(GatewayConnection.java:238)\n\tat java.base/java.lang.Thread.run(Thread.java:834)\n\n"
     ]
    }
   ],
   "source": [
    "df3=df2.withColumn('Species',col('sci2_name'))\\\n",
    ".withColumn('category',col('Category'))\\\n",
    ".withColumn('starting_year',col('collected_from_years'))\\\n",
    ".withColumn((when(col('annual_percentage').cast('float')< -3.00,'strong Decline')\\\n",
    "            .when(col('annual_percentage').cast('float')< -2.99  & col('annual_percentage').cast('float') > -0.50,'weak Decline')\\\n",
    "            .when(col('annual_percentage').cast('float') < -0.49 & col('annual_percentage').cast('float') > 0.50,'no chnage')\\\n",
    "            .when(col('annual_percentage').cast('float') < 0.49 & col('annual_percentage').cast('float') > 2.99,'weak increase')\\\n",
    "            .when(col('annual_percentage').cast('float') > 3.00,\"Strong increase\")\\\n",
    "            .alias('Annual_grade')))\\\n",
    ".drop('category','sci2_name','collected_from_years')"
   ]
  },
  {
   "cell_type": "code",
   "execution_count": 113,
   "metadata": {},
   "outputs": [
    {
     "name": "stdout",
     "output_type": "stream",
     "text": [
      "+--------------+--------------+--------------------+--------------------+-----------------+--------------------+-------------+\n",
      "|      category|      eng_name|           sci2_name|collected_from_years|annual_percentage|             Species|starting_year|\n",
      "+--------------+--------------+--------------------+--------------------+-----------------+--------------------+-------------+\n",
      "|Farmland birds|    Greenfinch|     Chloris chloris|                1970|            -1.13|     Chloris chloris|         1970|\n",
      "|Farmland birds|       Jackdaw|     Corvus monedula|                1970|             2.12|     Corvus monedula|         1970|\n",
      "|Farmland birds|       Kestrel|   Falco tinnunculus|                1970|            -1.49|   Falco tinnunculus|         1970|\n",
      "|Farmland birds|  Reed Bunting|Emberiza schoeniclus|                1970|            -0.86|Emberiza schoeniclus|         1970|\n",
      "|Farmland birds|          Rook|   Corvus frugilegus|                1970|             0.17|   Corvus frugilegus|         1970|\n",
      "|Farmland birds|    Woodpigeon|    Columba palumbus|                1970|             1.85|    Columba palumbus|         1970|\n",
      "|Farmland birds|Yellow Wagtail|     Motacilla flava|                1970|            -2.56|     Motacilla flava|         1970|\n",
      "|Farmland birds|  Corn Bunting|   Emberiza calandra|                1970|            -5.02|   Emberiza calandra|         1970|\n",
      "|Farmland birds|     Goldfinch| Carduelis carduelis|                1970|             2.14| Carduelis carduelis|         1970|\n",
      "|Farmland birds|Grey Partridge|       Perdix perdix|                1970|            -5.46|       Perdix perdix|         1970|\n",
      "|Farmland birds|       Lapwing|   Vanellus vanellus|                1970|            -2.28|   Vanellus vanellus|         1970|\n",
      "|Farmland birds|        Linnet| Carduelis cannabina|                1970|             -1.9| Carduelis cannabina|         1970|\n",
      "|Farmland birds|       Skylark|     Alauda arvensis|                1970|            -2.05|     Alauda arvensis|         1970|\n",
      "|Farmland birds|      Starling|    Sturnus vulgaris|                1970|            -3.64|    Sturnus vulgaris|         1970|\n",
      "|Farmland birds|    Stock Dove|       Columba oenas|                1970|             1.76|       Columba oenas|         1970|\n",
      "|Farmland birds|  Tree Sparrow|     Passer montanus|                1970|            -5.03|     Passer montanus|         1970|\n",
      "|Farmland birds|   Turtle Dove| Streptopelia turtur|                1970|            -8.01| Streptopelia turtur|         1970|\n",
      "|Farmland birds|   Whitethroat|     Sylvia communis|                1970|            -0.07|     Sylvia communis|         1970|\n",
      "|Woodland birds|     Blackbird|       Turdus merula|                1970|            -0.38|       Turdus merula|         1970|\n",
      "|Woodland birds|      Blue Tit| Cyanistes caeruleus|                1970|             0.48| Cyanistes caeruleus|         1970|\n",
      "+--------------+--------------+--------------------+--------------------+-----------------+--------------------+-------------+\n",
      "only showing top 20 rows\n",
      "\n"
     ]
    }
   ],
   "source": [
    "df3.show()"
   ]
  },
  {
   "cell_type": "code",
   "execution_count": null,
   "metadata": {},
   "outputs": [],
   "source": []
  }
 ],
 "metadata": {
  "kernelspec": {
   "display_name": "Python 3",
   "language": "python",
   "name": "python3"
  },
  "language_info": {
   "codemirror_mode": {
    "name": "ipython",
    "version": 3
   },
   "file_extension": ".py",
   "mimetype": "text/x-python",
   "name": "python",
   "nbconvert_exporter": "python",
   "pygments_lexer": "ipython3",
   "version": "3.8.5"
  }
 },
 "nbformat": 4,
 "nbformat_minor": 4
}
