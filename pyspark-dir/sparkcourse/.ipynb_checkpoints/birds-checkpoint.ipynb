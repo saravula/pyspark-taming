{
 "cells": [
  {
   "cell_type": "code",
   "execution_count": null,
   "metadata": {},
   "outputs": [],
   "source": []
  },
  {
   "cell_type": "code",
   "execution_count": 2,
   "metadata": {},
   "outputs": [],
   "source": [
    "from pyspark.sql import SparkSession"
   ]
  },
  {
   "cell_type": "code",
   "execution_count": 3,
   "metadata": {},
   "outputs": [],
   "source": [
    "#conf = SparkConf().setMaster(\"local\").setAppName(\"birds\")\n",
    "spark = SparkSession.builder.master(\"local\").appName(\"birds\").getOrCreate()"
   ]
  },
  {
   "cell_type": "code",
   "execution_count": 4,
   "metadata": {},
   "outputs": [],
   "source": [
    "file_input=spark.read.csv('birds.csv',inferSchema=True,header=True)"
   ]
  },
  {
   "cell_type": "code",
   "execution_count": 5,
   "metadata": {},
   "outputs": [
    {
     "name": "stdout",
     "output_type": "stream",
     "text": [
      "+--------------------+--------------+-----------+------------------------+\n",
      "|             Species|      Category|     Period|Annual percentage change|\n",
      "+--------------------+--------------+-----------+------------------------+\n",
      "|Greenfinch (Chlor...|Farmland birds|(1970-2014)|                   -1.13|\n",
      "|Jackdaw (Corvus m...|Farmland birds|(1970-2014)|                    2.12|\n",
      "|Kestrel (Falco ti...|Farmland birds|(1970-2014)|                   -1.49|\n",
      "|Reed Bunting (Emb...|Farmland birds|(1970-2014)|                   -0.86|\n",
      "|Rook (Corvus frug...|Farmland birds|(1970-2014)|                    0.17|\n",
      "|Woodpigeon (Colum...|Farmland birds|(1970-2014)|                    1.85|\n",
      "|Yellow Wagtail (M...|Farmland birds|(1970-2014)|                   -2.56|\n",
      "|Corn Bunting (Emb...|Farmland birds|(1970-2014)|                   -5.02|\n",
      "|Goldfinch (Cardue...|Farmland birds|(1970-2014)|                    2.14|\n",
      "|Grey Partridge (P...|Farmland birds|(1970-2014)|                   -5.46|\n",
      "|Lapwing (Vanellus...|Farmland birds|(1970-2014)|                   -2.28|\n",
      "|Linnet (Carduelis...|Farmland birds|(1970-2014)|                    -1.9|\n",
      "|Skylark (Alauda a...|Farmland birds|(1970-2014)|                   -2.05|\n",
      "|Starling (Sturnus...|Farmland birds|(1970-2014)|                   -3.64|\n",
      "|Stock Dove (Colum...|Farmland birds|(1970-2014)|                    1.76|\n",
      "|Tree Sparrow (Pas...|Farmland birds|(1970-2014)|                   -5.03|\n",
      "|Turtle Dove (Stre...|Farmland birds|(1970-2014)|                   -8.01|\n",
      "|Whitethroat (Sylv...|Farmland birds|(1970-2014)|                   -0.07|\n",
      "|Blackbird (Turdus...|Woodland birds|(1970-2014)|                   -0.38|\n",
      "|Blue Tit (Cyanist...|Woodland birds|(1970-2014)|                    0.48|\n",
      "+--------------------+--------------+-----------+------------------------+\n",
      "only showing top 20 rows\n",
      "\n"
     ]
    }
   ],
   "source": [
    "file_input.show()"
   ]
  },
  {
   "cell_type": "code",
   "execution_count": 6,
   "metadata": {},
   "outputs": [
    {
     "name": "stdout",
     "output_type": "stream",
     "text": [
      "root\n",
      " |-- Species: string (nullable = true)\n",
      " |-- Category: string (nullable = true)\n",
      " |-- Period: string (nullable = true)\n",
      " |-- Annual percentage change: double (nullable = true)\n",
      "\n"
     ]
    }
   ],
   "source": [
    "file_input.printSchema()"
   ]
  },
  {
   "cell_type": "code",
   "execution_count": 7,
   "metadata": {},
   "outputs": [
    {
     "name": "stdout",
     "output_type": "stream",
     "text": [
      "+--------------------+\n",
      "|             Species|\n",
      "+--------------------+\n",
      "|Greenfinch (Chlor...|\n",
      "|Jackdaw (Corvus m...|\n",
      "|Kestrel (Falco ti...|\n",
      "|Reed Bunting (Emb...|\n",
      "|Rook (Corvus frug...|\n",
      "|Woodpigeon (Colum...|\n",
      "|Yellow Wagtail (M...|\n",
      "|Corn Bunting (Emb...|\n",
      "|Goldfinch (Cardue...|\n",
      "|Grey Partridge (P...|\n",
      "|Lapwing (Vanellus...|\n",
      "|Linnet (Carduelis...|\n",
      "|Skylark (Alauda a...|\n",
      "|Starling (Sturnus...|\n",
      "|Stock Dove (Colum...|\n",
      "|Tree Sparrow (Pas...|\n",
      "|Turtle Dove (Stre...|\n",
      "|Whitethroat (Sylv...|\n",
      "|Blackbird (Turdus...|\n",
      "|Blue Tit (Cyanist...|\n",
      "+--------------------+\n",
      "only showing top 20 rows\n",
      "\n"
     ]
    }
   ],
   "source": [
    "file_input.select('Species').show()"
   ]
  },
  {
   "cell_type": "markdown",
   "metadata": {},
   "source": [
    "import pyspark.sql.functions as f\n",
    "#df2.select(spilt(col('eng_name'),\"(\")).show()\n",
    "#file_input.withColumn('eng_name', f.split('Species',' (')[0]).withColumn('sci_name',f.split('Species','(')[1]).show()\n",
    "split_col=f.split(file_input['Species'],'\\ \\(')\n",
    "split_col1=f.split(file_input['Species'],'\\)')\n",
    "df2=file_input.withColumn('eng_name',split_col.getItem(0)).withColumn('sci_name',split_col.getItem(0))"
   ]
  },
  {
   "cell_type": "code",
   "execution_count": 37,
   "metadata": {},
   "outputs": [],
   "source": [
    "import pyspark.sql.functions as f\n",
    "#df2.select(spilt(col('eng_name'),\"(\")).show()\n",
    "#file_input.withColumn('eng_name', f.split('Species',' (')[0]).withColumn('sci_name',f.split('Species','(')[1]).show()\n",
    "split_col=f.split(file_input['Species'],'\\ \\(')\n",
    "split_col1=f.split(file_input['Species'],')')\n",
    "df2=file_input.withColumn('eng_name',split_col.getItem(0)).withColumn('sci_name',split_col.getItem(1))"
   ]
  },
  {
   "cell_type": "code",
   "execution_count": 38,
   "metadata": {},
   "outputs": [
    {
     "name": "stdout",
     "output_type": "stream",
     "text": [
      "+--------------------+--------------+-----------+------------------------+--------------+--------------------+\n",
      "|             Species|      Category|     Period|Annual percentage change|      eng_name|            sci_name|\n",
      "+--------------------+--------------+-----------+------------------------+--------------+--------------------+\n",
      "|Greenfinch (Chlor...|Farmland birds|(1970-2014)|                   -1.13|    Greenfinch|    Chloris chloris)|\n",
      "|Jackdaw (Corvus m...|Farmland birds|(1970-2014)|                    2.12|       Jackdaw|    Corvus monedula)|\n",
      "|Kestrel (Falco ti...|Farmland birds|(1970-2014)|                   -1.49|       Kestrel|  Falco tinnunculus)|\n",
      "|Reed Bunting (Emb...|Farmland birds|(1970-2014)|                   -0.86|  Reed Bunting|Emberiza schoenic...|\n",
      "|Rook (Corvus frug...|Farmland birds|(1970-2014)|                    0.17|          Rook|  Corvus frugilegus)|\n",
      "|Woodpigeon (Colum...|Farmland birds|(1970-2014)|                    1.85|    Woodpigeon|   Columba palumbus)|\n",
      "|Yellow Wagtail (M...|Farmland birds|(1970-2014)|                   -2.56|Yellow Wagtail|    Motacilla flava)|\n",
      "|Corn Bunting (Emb...|Farmland birds|(1970-2014)|                   -5.02|  Corn Bunting|  Emberiza calandra)|\n",
      "|Goldfinch (Cardue...|Farmland birds|(1970-2014)|                    2.14|     Goldfinch|Carduelis carduelis)|\n",
      "|Grey Partridge (P...|Farmland birds|(1970-2014)|                   -5.46|Grey Partridge|      Perdix perdix)|\n",
      "|Lapwing (Vanellus...|Farmland birds|(1970-2014)|                   -2.28|       Lapwing|  Vanellus vanellus)|\n",
      "|Linnet (Carduelis...|Farmland birds|(1970-2014)|                    -1.9|        Linnet|Carduelis cannabina)|\n",
      "|Skylark (Alauda a...|Farmland birds|(1970-2014)|                   -2.05|       Skylark|    Alauda arvensis)|\n",
      "|Starling (Sturnus...|Farmland birds|(1970-2014)|                   -3.64|      Starling|   Sturnus vulgaris)|\n",
      "|Stock Dove (Colum...|Farmland birds|(1970-2014)|                    1.76|    Stock Dove|      Columba oenas)|\n",
      "|Tree Sparrow (Pas...|Farmland birds|(1970-2014)|                   -5.03|  Tree Sparrow|    Passer montanus)|\n",
      "|Turtle Dove (Stre...|Farmland birds|(1970-2014)|                   -8.01|   Turtle Dove|Streptopelia turtur)|\n",
      "|Whitethroat (Sylv...|Farmland birds|(1970-2014)|                   -0.07|   Whitethroat|    Sylvia communis)|\n",
      "|Blackbird (Turdus...|Woodland birds|(1970-2014)|                   -0.38|     Blackbird|      Turdus merula)|\n",
      "|Blue Tit (Cyanist...|Woodland birds|(1970-2014)|                    0.48|      Blue Tit|Cyanistes caeruleus)|\n",
      "+--------------------+--------------+-----------+------------------------+--------------+--------------------+\n",
      "only showing top 20 rows\n",
      "\n"
     ]
    }
   ],
   "source": [
    "df2.show()"
   ]
  },
  {
   "cell_type": "code",
   "execution_count": 54,
   "metadata": {},
   "outputs": [],
   "source": [
    "df2=df2.withColumn('sci2_name',f.split(df2['sci_name'],'\\\\)').getItem(0))"
   ]
  },
  {
   "cell_type": "code",
   "execution_count": 58,
   "metadata": {},
   "outputs": [],
   "source": [
    "df2=df2.drop('sci_name','Species')"
   ]
  },
  {
   "cell_type": "code",
   "execution_count": 59,
   "metadata": {},
   "outputs": [
    {
     "name": "stdout",
     "output_type": "stream",
     "text": [
      "+--------------+-----------+------------------------+--------------+--------------------+\n",
      "|      Category|     Period|Annual percentage change|      eng_name|           sci2_name|\n",
      "+--------------+-----------+------------------------+--------------+--------------------+\n",
      "|Farmland birds|(1970-2014)|                   -1.13|    Greenfinch|     Chloris chloris|\n",
      "|Farmland birds|(1970-2014)|                    2.12|       Jackdaw|     Corvus monedula|\n",
      "|Farmland birds|(1970-2014)|                   -1.49|       Kestrel|   Falco tinnunculus|\n",
      "|Farmland birds|(1970-2014)|                   -0.86|  Reed Bunting|Emberiza schoeniclus|\n",
      "|Farmland birds|(1970-2014)|                    0.17|          Rook|   Corvus frugilegus|\n",
      "|Farmland birds|(1970-2014)|                    1.85|    Woodpigeon|    Columba palumbus|\n",
      "|Farmland birds|(1970-2014)|                   -2.56|Yellow Wagtail|     Motacilla flava|\n",
      "|Farmland birds|(1970-2014)|                   -5.02|  Corn Bunting|   Emberiza calandra|\n",
      "|Farmland birds|(1970-2014)|                    2.14|     Goldfinch| Carduelis carduelis|\n",
      "|Farmland birds|(1970-2014)|                   -5.46|Grey Partridge|       Perdix perdix|\n",
      "|Farmland birds|(1970-2014)|                   -2.28|       Lapwing|   Vanellus vanellus|\n",
      "|Farmland birds|(1970-2014)|                    -1.9|        Linnet| Carduelis cannabina|\n",
      "|Farmland birds|(1970-2014)|                   -2.05|       Skylark|     Alauda arvensis|\n",
      "|Farmland birds|(1970-2014)|                   -3.64|      Starling|    Sturnus vulgaris|\n",
      "|Farmland birds|(1970-2014)|                    1.76|    Stock Dove|       Columba oenas|\n",
      "|Farmland birds|(1970-2014)|                   -5.03|  Tree Sparrow|     Passer montanus|\n",
      "|Farmland birds|(1970-2014)|                   -8.01|   Turtle Dove| Streptopelia turtur|\n",
      "|Farmland birds|(1970-2014)|                   -0.07|   Whitethroat|     Sylvia communis|\n",
      "|Woodland birds|(1970-2014)|                   -0.38|     Blackbird|       Turdus merula|\n",
      "|Woodland birds|(1970-2014)|                    0.48|      Blue Tit| Cyanistes caeruleus|\n",
      "+--------------+-----------+------------------------+--------------+--------------------+\n",
      "only showing top 20 rows\n",
      "\n"
     ]
    }
   ],
   "source": [
    "df2.show()\n"
   ]
  },
  {
   "cell_type": "code",
   "execution_count": 60,
   "metadata": {},
   "outputs": [],
   "source": [
    "from pyspark.sql.functions import trim"
   ]
  },
  {
   "cell_type": "code",
   "execution_count": 62,
   "metadata": {},
   "outputs": [],
   "source": [
    "df2=df2.withColumn('collected_from_year',f.split(df2['Period'],'-').getItem(0))"
   ]
  },
  {
   "cell_type": "markdown",
   "metadata": {},
   "source": [
    "## "
   ]
  }
 ],
 "metadata": {
  "kernelspec": {
   "display_name": "Python 3",
   "language": "python",
   "name": "python3"
  },
  "language_info": {
   "codemirror_mode": {
    "name": "ipython",
    "version": 3
   },
   "file_extension": ".py",
   "mimetype": "text/x-python",
   "name": "python",
   "nbconvert_exporter": "python",
   "pygments_lexer": "ipython3",
   "version": "3.8.5"
  }
 },
 "nbformat": 4,
 "nbformat_minor": 4
}
