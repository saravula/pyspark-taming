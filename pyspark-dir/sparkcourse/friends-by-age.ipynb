{
 "cells": [
  {
   "cell_type": "code",
   "execution_count": 1,
   "metadata": {},
   "outputs": [
    {
     "name": "stdout",
     "output_type": "stream",
     "text": [
      "((33, 325.3333333333333), 2)\n",
      "((26, 242.05882352941177), 2)\n",
      "((55, 295.53846153846155), 2)\n",
      "((40, 250.8235294117647), 2)\n",
      "((68, 269.6), 2)\n",
      "((59, 220.0), 2)\n",
      "((37, 249.33333333333334), 2)\n",
      "((54, 278.0769230769231), 2)\n",
      "((38, 193.53333333333333), 2)\n",
      "((27, 228.125), 2)\n",
      "((53, 222.85714285714286), 2)\n",
      "((57, 258.8333333333333), 2)\n",
      "((56, 306.6666666666667), 2)\n",
      "((43, 230.57142857142858), 2)\n",
      "((36, 246.6), 2)\n",
      "((22, 206.42857142857142), 2)\n",
      "((35, 211.625), 2)\n",
      "((45, 309.53846153846155), 2)\n",
      "((60, 202.71428571428572), 2)\n",
      "((67, 214.625), 2)\n",
      "((19, 213.27272727272728), 2)\n",
      "((30, 235.8181818181818), 2)\n",
      "((51, 302.14285714285717), 2)\n",
      "((25, 197.45454545454547), 2)\n",
      "((21, 350.875), 2)\n",
      "((42, 303.5), 2)\n",
      "((49, 184.66666666666666), 2)\n",
      "((48, 281.4), 2)\n",
      "((50, 254.6), 2)\n",
      "((39, 169.28571428571428), 2)\n",
      "((32, 207.9090909090909), 2)\n",
      "((58, 116.54545454545455), 2)\n",
      "((64, 281.3333333333333), 2)\n",
      "((31, 267.25), 2)\n",
      "((52, 340.6363636363636), 2)\n",
      "((24, 233.8), 2)\n",
      "((20, 165.0), 2)\n",
      "((62, 220.76923076923077), 2)\n",
      "((41, 268.55555555555554), 2)\n",
      "((44, 282.1666666666667), 2)\n",
      "((69, 235.2), 2)\n",
      "((65, 298.2), 2)\n",
      "((61, 256.22222222222223), 2)\n",
      "((28, 209.1), 2)\n",
      "((66, 276.44444444444446), 2)\n",
      "((46, 223.69230769230768), 2)\n",
      "((29, 215.91666666666666), 2)\n",
      "((18, 343.375), 2)\n",
      "((47, 233.22222222222223), 2)\n",
      "((34, 245.5), 2)\n",
      "((63, 384.0), 2)\n",
      "((23, 246.3), 2)\n"
     ]
    }
   ],
   "source": [
    "from pyspark import SparkConf, SparkContext\n",
    "\n",
    "conf = SparkConf().setMaster(\"local\").setAppName(\"FriendsByAge\")\n",
    "sc = SparkContext(conf = conf)\n",
    "\n",
    "def parseLine(line):\n",
    "    fields = line.split(',')\n",
    "    age = int(fields[2])\n",
    "    numFriends = int(fields[3])\n",
    "    return (age, numFriends)\n",
    "\n",
    "lines = sc.textFile(\"/home/jovyan/pyspark-dir/sparkcourse/fakefriends.csv\")\n",
    "rdd = lines.map(parseLine)\n",
    "totalsByAge = rdd.mapValues(lambda x: (x, 1)).reduceByKey(lambda x, y: (x[0] + y[0], x[1] + y[1]))\n",
    "averagesByAge = totalsByAge.mapValues(lambda x: x[0] / x[1])\n",
    "results = averagesByAge.collect()\n",
    "for result in results:\n",
    "    print((result,2))\n"
   ]
  },
  {
   "cell_type": "code",
   "execution_count": null,
   "metadata": {},
   "outputs": [],
   "source": []
  },
  {
   "cell_type": "code",
   "execution_count": null,
   "metadata": {},
   "outputs": [],
   "source": []
  }
 ],
 "metadata": {
  "kernelspec": {
   "display_name": "Python 3",
   "language": "python",
   "name": "python3"
  },
  "language_info": {
   "codemirror_mode": {
    "name": "ipython",
    "version": 3
   },
   "file_extension": ".py",
   "mimetype": "text/x-python",
   "name": "python",
   "nbconvert_exporter": "python",
   "pygments_lexer": "ipython3",
   "version": "3.8.5"
  }
 },
 "nbformat": 4,
 "nbformat_minor": 4
}
